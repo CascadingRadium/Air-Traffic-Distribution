{
 "cells": [
  {
   "cell_type": "code",
   "execution_count": 1,
   "metadata": {},
   "outputs": [],
   "source": [
    "import pickle as pk\n",
    "import matplotlib.pyplot as plt\n",
    "from matplotlib.pyplot import cm\n",
    "from descartes.patch import PolygonPatch\n",
    "import numpy as np\n",
    "import random\n",
    "%matplotlib qt"
   ]
  },
  {
   "cell_type": "code",
   "execution_count": 3,
   "metadata": {},
   "outputs": [],
   "source": [
    "realData=pk.load(open(\"./MetricFiles/2013-08-16_TrafficFactor.pkl\",\"rb\"))"
   ]
  },
  {
   "cell_type": "code",
   "execution_count": 5,
   "metadata": {},
   "outputs": [],
   "source": [
    "gaData=open(\"./MetricFiles/TrafficFactor.txt\",\"r\")\n",
    "gaData=gaData.readlines()\n",
    "gaData=list(map(lambda x:x[:len(x) -1],gaData))\n",
    "gaData=list(map(lambda x:int(x),gaData))"
   ]
  },
  {
   "cell_type": "code",
   "execution_count": 6,
   "metadata": {},
   "outputs": [],
   "source": [
    "ga=dict()\n",
    "for index,value in enumerate(gaData):\n",
    "    ga[index]=value"
   ]
  },
  {
   "cell_type": "code",
   "execution_count": 8,
   "metadata": {},
   "outputs": [],
   "source": [
    "convexDict=pk.load(open(\"./Outputs/ConvexDict.pkl\",\"rb\"))"
   ]
  },
  {
   "cell_type": "code",
   "execution_count": 9,
   "metadata": {},
   "outputs": [],
   "source": [
    "def getK(trafficMatrix):\n",
    "    kDict=dict()\n",
    "    for index,row in enumerate(trafficMatrix):\n",
    "        kDict[index]=sum(row)/len(row)\n",
    "    return kDict"
   ]
  },
  {
   "cell_type": "code",
   "execution_count": 10,
   "metadata": {},
   "outputs": [],
   "source": [
    "def getColours():\n",
    "    d=dict()\n",
    "#     r,g,b=211,211,211\n",
    "#     for i in range(80):\n",
    "#         d[i]=[r/255,g/255,b/255]\n",
    "#         r-=2\n",
    "#         g-=2\n",
    "#         b-=2\n",
    "#     return d\n",
    "    d[0]=[135/255,206/255,250/255]\n",
    "    d[1]=[30/255,144/255,255/255]\n",
    "    d[2]=[0,0,139/255]\n",
    "    d[3]=[255/255,127/255,80/255]\n",
    "    d[4]=[255/255,69/255,0]\n",
    "    d[5]=[255/255,140/255,0]\n",
    "    d[6]=[255/255,160/255,122/255]\n",
    "    d[7]=[220/255,20/255,60/255]\n",
    "    d[8]=[128/255,0,0]\n",
    "    d[9]=[238/255,130/255,238/255]\n",
    "    d[10]=[255/255,0,255/255]\n",
    "    d[11]=[128/255,0,128/255]\n",
    "    return d"
   ]
  },
  {
   "cell_type": "code",
   "execution_count": 11,
   "metadata": {},
   "outputs": [],
   "source": [
    "def darken(trafficMatrix,real):\n",
    "    kDict=trafficMatrix\n",
    "    fig=pk.load(open(\"Simulator.pkl\",\"rb\"))\n",
    "    hue=sorted([(k,v) for k,v in kDict.items()],key=lambda x:x[1])\n",
    "    #colors=[[220,220,220],[211,211,211],[192,192,192],[169,169,169],[128,128,128],[105,105,105],[119,136,153],[47,79,79],[0,0,0]]\n",
    "    colors=getColours()\n",
    "    for sector,k in hue:\n",
    "        if k > 11:\n",
    "            continue\n",
    "        x,y=zip(*convexDict[sector])\n",
    "        colour=colors[k]\n",
    "        plt.fill(x,y,facecolor=colour)\n",
    "    if real == 1:\n",
    "        plt.savefig(\"real.jpg\")\n",
    "    else:\n",
    "        plt.savefig(\"ga.jpg\")"
   ]
  },
  {
   "cell_type": "code",
   "execution_count": 19,
   "metadata": {},
   "outputs": [
    {
     "name": "stderr",
     "output_type": "stream",
     "text": [
      "<ipython-input-9-d90a475b2134>:3: UserWarning: This figure was saved with matplotlib version 3.5.1 and is unlikely to function correctly.\n",
      "  fig=pk.load(open(\"Simulator.pkl\",\"rb\"))\n"
     ]
    }
   ],
   "source": [
    "darken(realData,1)"
   ]
  },
  {
   "cell_type": "code",
   "execution_count": 20,
   "metadata": {},
   "outputs": [
    {
     "name": "stderr",
     "output_type": "stream",
     "text": [
      "<ipython-input-9-d90a475b2134>:3: UserWarning: This figure was saved with matplotlib version 3.5.1 and is unlikely to function correctly.\n",
      "  fig=pk.load(open(\"Simulator.pkl\",\"rb\"))\n"
     ]
    }
   ],
   "source": [
    "darken(ga,0)"
   ]
  }
 ],
 "metadata": {
  "kernelspec": {
   "display_name": "Python 3",
   "language": "python",
   "name": "python3"
  },
  "language_info": {
   "codemirror_mode": {
    "name": "ipython",
    "version": 3
   },
   "file_extension": ".py",
   "mimetype": "text/x-python",
   "name": "python",
   "nbconvert_exporter": "python",
   "pygments_lexer": "ipython3",
   "version": "3.8.10"
  }
 },
 "nbformat": 4,
 "nbformat_minor": 4
}
