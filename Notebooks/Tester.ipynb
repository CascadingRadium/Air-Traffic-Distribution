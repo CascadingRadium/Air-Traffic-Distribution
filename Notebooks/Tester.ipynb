{
 "cells": [
  {
   "cell_type": "code",
   "execution_count": null,
   "id": "0595460a",
   "metadata": {},
   "outputs": [],
   "source": [
    "from mpl_toolkits.basemap import Basemap\n",
    "from multiprocessing import Process,Array,Value\n",
    "from collections import defaultdict\n",
    "from scipy.spatial import distance as dst\n",
    "import matplotlib.pyplot as plt\n",
    "import shapely.geometry as sp\n",
    "import numpy as np\n",
    "import pandas as pd\n",
    "import pickle as pk\n",
    "import datetime as dt\n",
    "import threading\n",
    "import itertools\n",
    "import math\n",
    "import time\n",
    "import json\n",
    "import copy"
   ]
  },
  {
   "cell_type": "code",
   "execution_count": null,
   "id": "194748cb",
   "metadata": {},
   "outputs": [],
   "source": [
    "flights=pd.read_csv(\"Outputs/cleanFlightHistory.csv\",low_memory=False)\n",
    "Tracks=pd.read_csv(\"Outputs/realTracks.csv\")\n",
    "m = pk.load(open(\"Outputs/M_ConversionMetric.pkl\", \"rb\"))\n",
    "speeds = pk.load(open(\"Outputs/SpeedDict.pkl\", \"rb\"))\n",
    "SectorGraph = pk.load(open(\"Outputs/SectorGraph.pkl\", \"rb\"))\n",
    "Centroids = pk.load(open(\"Outputs/CentroidDict.pkl\", \"rb\"))\n",
    "ConvexHulls = pk.load(open(\"Outputs/ConvexDict.pkl\", \"rb\"))\n",
    "airportSector=pk.load(open(\"Outputs/airportSectorDict.pkl\", \"rb\"))"
   ]
  },
  {
   "cell_type": "code",
   "execution_count": null,
   "id": "4142883c",
   "metadata": {},
   "outputs": [],
   "source": [
    "flightID="
   ]
  },
  {
   "cell_type": "code",
   "execution_count": null,
   "id": "668e3d7b",
   "metadata": {},
   "outputs": [],
   "source": [
    "speedinKnots=speeds[flightID]\n",
    "flight=flights[flights['id']==flightID]\n",
    "start=airportSector[flight['departure_airport_icao_code'].values[0]]\n",
    "end=airportSector[flight['arrival_airport_icao_code'].values[0]]\n",
    "print(f\"Input to GA:\\n{start},{end},0,{speedinKnots}\")\n",
    "\n",
    "realDepart=dt.datetime.fromisoformat(str(flight['actual_runway_departure'].values[0]))\n",
    "realArrival=dt.datetime.fromisoformat(str(flight['actual_runway_arrival'].values[0]))\n",
    "flights[flights['id']==flightID]"
   ]
  },
  {
   "cell_type": "code",
   "execution_count": null,
   "id": "d2b3f002",
   "metadata": {},
   "outputs": [],
   "source": [
    "%matplotlib qt\n",
    "fig = plt.figure(pk.load(open(\"Outputs/Simulator.pkl\",\"rb\")))"
   ]
  },
  {
   "cell_type": "code",
   "execution_count": null,
   "id": "b63e464e",
   "metadata": {},
   "outputs": [],
   "source": [
    "pathFromGA=[989,980,983,998,990]"
   ]
  },
  {
   "cell_type": "code",
   "execution_count": null,
   "id": "7ab3484c",
   "metadata": {},
   "outputs": [],
   "source": [
    "singleFlightTrack=Tracks[Tracks['flighthistory_id']==flightID]\n",
    "singleFlightTrack=singleFlightTrack.sort_values('received')\n",
    "lat=singleFlightTrack['latitude_degrees'].values\n",
    "lon=singleFlightTrack['longitude_degrees'].values\n",
    "realX,realY=m(lon,lat)\n",
    "PathLenGA=0\n",
    "PathLenReal=0\n",
    "for pt in range(1,len(realX)):\n",
    "     PathLenReal+=dst.euclidean((realX[pt-1],realY[pt-1]),(realX[pt],realY[pt]))\n",
    "mpm_speed=(speedinKnots/1.944)*60\n",
    "GAx=[Centroids[pathFromGA[0]][0]]\n",
    "GAy=[Centroids[pathFromGA[0]][1]]\n",
    "for Hull in range(len(pathFromGA)-1):\n",
    "    X=[]\n",
    "    Y=[]\n",
    "    Plot=ConvexHulls[pathFromGA[Hull]]\n",
    "    Plot.append(ConvexHulls[pathFromGA[Hull]][0])\n",
    "    for pt in Plot:\n",
    "        X.append(pt[0])\n",
    "        Y.append(pt[1])\n",
    "    line1 = sp.LineString(list(Plot))\n",
    "    for neigh in SectorGraph.neighbors(pathFromGA[Hull]):\n",
    "        if(neigh==pathFromGA[Hull+1]):\n",
    "            line2 = sp.LineString([Centroids[pathFromGA[Hull]], Centroids[neigh]])\n",
    "            ABC=line1.intersection(line2)\n",
    "            PathLenGA+=dst.euclidean((GAx[-1],GAy[-1]),(ABC.x,ABC.y))\n",
    "            GAx.append(ABC.x)\n",
    "            GAy.append(ABC.y)\n",
    "PathLenGA+=dst.euclidean((GAx[-1],GAy[-1]),Centroids[pathFromGA[-1]])\n",
    "GAx.append(Centroids[pathFromGA[-1]][0])\n",
    "GAy.append(Centroids[pathFromGA[-1]][1])"
   ]
  },
  {
   "cell_type": "code",
   "execution_count": null,
   "id": "c3080a4f",
   "metadata": {},
   "outputs": [],
   "source": [
    "plt.plot(realX,realY,linewidth=20,c='b',label=\"Actual Path\")\n",
    "plt.plot(GAx,GAy,linewidth=20,c='g',label=\"GA Path\")\n",
    "plt.legend(loc=\"upper left\",prop={'size': 100})\n",
    "fig.canvas.draw()"
   ]
  },
  {
   "cell_type": "code",
   "execution_count": null,
   "id": "4d971720",
   "metadata": {},
   "outputs": [],
   "source": [
    "print(PathLenGA/mpm_speed)\n",
    "print(PathLenReal/mpm_speed)\n",
    "T=((realArrival-realDepart).seconds//3600)*60+(((realArrival-realDepart).seconds//60)%60)\n",
    "print(T)"
   ]
  },
  {
   "cell_type": "code",
   "execution_count": null,
   "id": "41ac3488",
   "metadata": {},
   "outputs": [],
   "source": [
    "((PathLenReal/(T*60))*1.944)"
   ]
  },
  {
   "cell_type": "code",
   "execution_count": null,
   "id": "390a5ac8",
   "metadata": {},
   "outputs": [],
   "source": [
    "(PathLenReal/(T*60))"
   ]
  },
  {
   "cell_type": "code",
   "execution_count": null,
   "id": "d5df938f",
   "metadata": {},
   "outputs": [],
   "source": [
    "import time\n",
    "dfFlights=pd.read_csv(\"Outputs/cleanFlightHistory.csv\")\n",
    "ConvexDict = pk.load(open(\"Outputs/ConvexDict.pkl\", \"rb\"))\n",
    "dayDf=dfFlights[dfFlights['scheduled_runway_departure'].str.contains(\"2013-08-16\")].copy()\n",
    "dayDf.sort_values(by=[\"scheduled_runway_departure\"], inplace = True)\n",
    "dayDf=dayDf[:20]\n",
    "stlol=time.time()\n",
    "ProperPath=0\n",
    "BadPath=0\n",
    "NoPath=[]\n",
    "HalfPath=[]\n",
    "FullPath=[]\n",
    "for index,flight in dayDf.iterrows():\n",
    "    start=airportSector[flight['departure_airport_icao_code']]\n",
    "    end=airportSector[flight['arrival_airport_icao_code']]\n",
    "    if(start==end):\n",
    "        continue\n",
    "    singleFlightTrack=Tracks[Tracks['flighthistory_id']==flight['id']]\n",
    "    singleFlightTrack=singleFlightTrack.sort_values('received')\n",
    "    lat=singleFlightTrack['latitude_degrees'].values\n",
    "    lon=singleFlightTrack['longitude_degrees'].values\n",
    "    realX,realY=m(lon,lat)\n",
    "    if(len(realX)==0):\n",
    "        NoPath.append(flight['id'])\n",
    "    else:\n",
    "        StartPoint=(realX[0],realY[0])\n",
    "        EndPoint=(realX[-1],realY[-1])\n",
    "        if(not ((sp.Polygon(ConvexDict[start]).contains(sp.Point(StartPoint))) and (sp.Polygon(ConvexDict[end]).contains(sp.Point(EndPoint))))):\n",
    "            HalfPath.append(flight['id'])\n",
    "        else:\n",
    "            FullPath.append(flight['id'])\n",
    "enlol=time.time()\n",
    "print(enlol-stlol)"
   ]
  },
  {
   "cell_type": "code",
   "execution_count": null,
   "id": "9121df2e",
   "metadata": {},
   "outputs": [],
   "source": [
    "print(len(NoPath))\n",
    "print(len(HalfPath))\n",
    "print(len(FullPath))"
   ]
  }
 ],
 "metadata": {
  "kernelspec": {
   "display_name": "Python 3",
   "language": "python",
   "name": "python3"
  },
  "language_info": {
   "codemirror_mode": {
    "name": "ipython",
    "version": 3
   },
   "file_extension": ".py",
   "mimetype": "text/x-python",
   "name": "python",
   "nbconvert_exporter": "python",
   "pygments_lexer": "ipython3",
   "version": "3.8.10"
  }
 },
 "nbformat": 4,
 "nbformat_minor": 5
}
