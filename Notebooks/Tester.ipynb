{
 "cells": [
  {
   "cell_type": "code",
   "execution_count": 1,
   "id": "d4a5be77",
   "metadata": {},
   "outputs": [],
   "source": [
    "from mpl_toolkits.basemap import Basemap\n",
    "from multiprocessing import Process,Array,Value\n",
    "from collections import defaultdict\n",
    "from scipy.spatial import distance as dst\n",
    "import matplotlib.pyplot as plt\n",
    "import shapely.geometry as sp\n",
    "import numpy as np\n",
    "import pandas as pd\n",
    "import pickle as pk\n",
    "import datetime as dt\n",
    "import threading\n",
    "import itertools\n",
    "import math\n",
    "import time\n",
    "import json\n",
    "import copy"
   ]
  },
  {
   "cell_type": "code",
   "execution_count": 4,
   "id": "b5795bbb",
   "metadata": {},
   "outputs": [],
   "source": [
    "flights=pd.read_csv(\"Outputs/cleanFlightHistory.csv\",low_memory=False)\n",
    "Tracks=pd.read_csv(\"MetricFiles/DayWiseInput/2013-08-16_tracks.csv\")\n",
    "m = pk.load(open(\"Outputs/M_ConversionMetric.pkl\", \"rb\"))\n",
    "speeds = pk.load(open(\"Outputs/SpeedDict.pkl\", \"rb\"))\n",
    "SectorGraph = pk.load(open(\"Outputs/SectorGraph.pkl\", \"rb\"))\n",
    "Centroids = pk.load(open(\"Outputs/CentroidDict.pkl\", \"rb\"))\n",
    "ConvexHulls = pk.load(open(\"Outputs/ConvexDict.pkl\", \"rb\"))\n",
    "airportSector=pk.load(open(\"Outputs/airportSectorDict.pkl\", \"rb\"))"
   ]
  },
  {
   "cell_type": "code",
   "execution_count": 18,
   "id": "1fd7f1cf",
   "metadata": {},
   "outputs": [],
   "source": [
    "flightID=306048464"
   ]
  },
  {
   "cell_type": "code",
   "execution_count": 19,
   "id": "1d36ae4c",
   "metadata": {},
   "outputs": [
    {
     "name": "stdout",
     "output_type": "stream",
     "text": [
      "Input to GA:\n",
      "775,159,0,433.0\n"
     ]
    },
    {
     "data": {
      "text/html": [
       "<div>\n",
       "<style scoped>\n",
       "    .dataframe tbody tr th:only-of-type {\n",
       "        vertical-align: middle;\n",
       "    }\n",
       "\n",
       "    .dataframe tbody tr th {\n",
       "        vertical-align: top;\n",
       "    }\n",
       "\n",
       "    .dataframe thead th {\n",
       "        text-align: right;\n",
       "    }\n",
       "</style>\n",
       "<table border=\"1\" class=\"dataframe\">\n",
       "  <thead>\n",
       "    <tr style=\"text-align: right;\">\n",
       "      <th></th>\n",
       "      <th>id</th>\n",
       "      <th>departure_airport_icao_code</th>\n",
       "      <th>arrival_airport_icao_code</th>\n",
       "      <th>scheduled_runway_departure</th>\n",
       "      <th>actual_runway_departure</th>\n",
       "      <th>scheduled_runway_arrival</th>\n",
       "      <th>actual_runway_arrival</th>\n",
       "    </tr>\n",
       "  </thead>\n",
       "  <tbody>\n",
       "    <tr>\n",
       "      <th>46330</th>\n",
       "      <td>306048464</td>\n",
       "      <td>KMCO</td>\n",
       "      <td>KLAS</td>\n",
       "      <td>2013-08-16 00:00:00</td>\n",
       "      <td>2013-08-16 00:04:00</td>\n",
       "      <td>2013-08-16 04:21:00</td>\n",
       "      <td>2013-08-16 04:28:00</td>\n",
       "    </tr>\n",
       "  </tbody>\n",
       "</table>\n",
       "</div>"
      ],
      "text/plain": [
       "              id departure_airport_icao_code arrival_airport_icao_code  \\\n",
       "46330  306048464                        KMCO                      KLAS   \n",
       "\n",
       "      scheduled_runway_departure actual_runway_departure  \\\n",
       "46330        2013-08-16 00:00:00     2013-08-16 00:04:00   \n",
       "\n",
       "      scheduled_runway_arrival actual_runway_arrival  \n",
       "46330      2013-08-16 04:21:00   2013-08-16 04:28:00  "
      ]
     },
     "execution_count": 19,
     "metadata": {},
     "output_type": "execute_result"
    }
   ],
   "source": [
    "speedinKnots=speeds[flightID]\n",
    "flight=flights[flights['id']==flightID]\n",
    "start=airportSector[flight['departure_airport_icao_code'].values[0]]\n",
    "end=airportSector[flight['arrival_airport_icao_code'].values[0]]\n",
    "print(f\"Input to GA:\\n{start},{end},0,{speedinKnots}\")\n",
    "\n",
    "realDepart=dt.datetime.fromisoformat(str(flight['actual_runway_departure'].values[0]))\n",
    "realArrival=dt.datetime.fromisoformat(str(flight['actual_runway_arrival'].values[0]))\n",
    "flights[flights['id']==flightID]"
   ]
  },
  {
   "cell_type": "code",
   "execution_count": 20,
   "id": "9efda6d6",
   "metadata": {},
   "outputs": [],
   "source": [
    "%matplotlib qt\n",
    "fig = plt.figure(pk.load(open(\"Outputs/Simulator.pkl\",\"rb\")))"
   ]
  },
  {
   "cell_type": "code",
   "execution_count": 21,
   "id": "519c7b4c",
   "metadata": {},
   "outputs": [],
   "source": [
    "pathFromGA=[989,980,983,998,990]"
   ]
  },
  {
   "cell_type": "code",
   "execution_count": 22,
   "id": "a2e0453e",
   "metadata": {},
   "outputs": [],
   "source": [
    "singleFlightTrack=Tracks[Tracks['flighthistory_id']==flightID]\n",
    "singleFlightTrack=singleFlightTrack.sort_values('received')\n",
    "lat=singleFlightTrack['latitude_degrees'].values\n",
    "lon=singleFlightTrack['longitude_degrees'].values\n",
    "realX,realY=m(lon,lat)\n",
    "PathLenGA=0\n",
    "PathLenReal=0\n",
    "for pt in range(1,len(realX)):\n",
    "     PathLenReal+=dst.euclidean((realX[pt-1],realY[pt-1]),(realX[pt],realY[pt]))\n",
    "# mpm_speed=(speedinKnots/1.944)*60\n",
    "GAx=[Centroids[pathFromGA[0]][0]]\n",
    "GAy=[Centroids[pathFromGA[0]][1]]\n",
    "for Hull in range(len(pathFromGA)-1):\n",
    "    X=[]\n",
    "    Y=[]\n",
    "    Plot=ConvexHulls[pathFromGA[Hull]]\n",
    "    Plot.append(ConvexHulls[pathFromGA[Hull]][0])\n",
    "    for pt in Plot:\n",
    "        X.append(pt[0])\n",
    "        Y.append(pt[1])\n",
    "    line1 = sp.LineString(list(Plot))\n",
    "    for neigh in SectorGraph.neighbors(pathFromGA[Hull]):\n",
    "        if(neigh==pathFromGA[Hull+1]):\n",
    "            line2 = sp.LineString([Centroids[pathFromGA[Hull]], Centroids[neigh]])\n",
    "            ABC=line1.intersection(line2)\n",
    "            PathLenGA+=dst.euclidean((GAx[-1],GAy[-1]),(ABC.x,ABC.y))\n",
    "            GAx.append(ABC.x)\n",
    "            GAy.append(ABC.y)\n",
    "PathLenGA+=dst.euclidean((GAx[-1],GAy[-1]),Centroids[pathFromGA[-1]])\n",
    "GAx.append(Centroids[pathFromGA[-1]][0])\n",
    "GAy.append(Centroids[pathFromGA[-1]][1])"
   ]
  },
  {
   "cell_type": "code",
   "execution_count": 23,
   "id": "69496d79",
   "metadata": {},
   "outputs": [],
   "source": [
    "plt.plot(realX,realY,linewidth=20,c='b',label=\"Actual Path\")\n",
    "# plt.plot(GAx,GAy,linewidth=20,c='g',label=\"GA Path\")\n",
    "plt.legend(loc=\"upper left\",prop={'size': 100})\n",
    "fig.canvas.draw()"
   ]
  },
  {
   "cell_type": "code",
   "execution_count": 116,
   "id": "7c2b293b",
   "metadata": {},
   "outputs": [
    {
     "name": "stdout",
     "output_type": "stream",
     "text": [
      "43.76874017715454\n"
     ]
    }
   ],
   "source": [
    "import time\n",
    "dfFlights=pd.read_csv(\"Outputs/cleanFlightHistory.csv\")\n",
    "ConvexDict = pk.load(open(\"Outputs/ConvexDict.pkl\", \"rb\"))\n",
    "dayDf=dfFlights[dfFlights['scheduled_runway_departure'].str.contains(\"2013-08-16\")].copy()\n",
    "dayDf.sort_values(by=[\"scheduled_runway_departure\"], inplace = True)\n",
    "dayDf=dayDf[:500]\n",
    "stlol=time.time()\n",
    "ProperPath=0\n",
    "BadPath=0\n",
    "NoPath=[]\n",
    "HalfPath=[]\n",
    "FullPath=[]\n",
    "for index,flight in dayDf.iterrows():\n",
    "    start=airportSector[flight['departure_airport_icao_code']]\n",
    "    end=airportSector[flight['arrival_airport_icao_code']]\n",
    "    if(start==end):\n",
    "        continue\n",
    "    singleFlightTrack=Tracks[Tracks['flighthistory_id']==flight['id']]\n",
    "    singleFlightTrack=singleFlightTrack.sort_values('received')\n",
    "    lat=singleFlightTrack['latitude_degrees'].values\n",
    "    lon=singleFlightTrack['longitude_degrees'].values\n",
    "    realX,realY=m(lon,lat)\n",
    "    if(len(realX)==0):\n",
    "        NoPath.append(flight['id'])\n",
    "    else:\n",
    "        StartPoint=(realX[0],realY[0])\n",
    "        EndPoint=(realX[-1],realY[-1])\n",
    "        if(not ((sp.Polygon(ConvexDict[start]).contains(sp.Point(StartPoint))) and (sp.Polygon(ConvexDict[end]).contains(sp.Point(EndPoint))))):\n",
    "            HalfPath.append(flight['id'])\n",
    "        else:\n",
    "            FullPath.append(flight['id'])\n",
    "enlol=time.time()\n",
    "print(enlol-stlol)"
   ]
  },
  {
   "cell_type": "code",
   "execution_count": 118,
   "id": "8199cb77",
   "metadata": {},
   "outputs": [
    {
     "data": {
      "text/plain": [
       "[306043857,\n",
       " 306032763,\n",
       " 306386689,\n",
       " 306062641,\n",
       " 306386460,\n",
       " 306020239,\n",
       " 306049726,\n",
       " 306386664,\n",
       " 306020280,\n",
       " 306011591,\n",
       " 306072605,\n",
       " 306050965,\n",
       " 306022596,\n",
       " 306015773,\n",
       " 306020071,\n",
       " 306020366,\n",
       " 306027806,\n",
       " 306386666,\n",
       " 306003307,\n",
       " 306011989,\n",
       " 306058850,\n",
       " 306049714,\n",
       " 306024070,\n",
       " 305998957,\n",
       " 306033418,\n",
       " 306049035,\n",
       " 306058386,\n",
       " 306058843,\n",
       " 306017890,\n",
       " 306011477,\n",
       " 306022466,\n",
       " 306011214,\n",
       " 306019913,\n",
       " 305997446,\n",
       " 306058102,\n",
       " 306048394,\n",
       " 306015693,\n",
       " 306290201,\n",
       " 306070058,\n",
       " 306064127,\n",
       " 306049769,\n",
       " 306014514,\n",
       " 306034438,\n",
       " 306053374,\n",
       " 306020193,\n",
       " 306020168,\n",
       " 306386483,\n",
       " 306073087,\n",
       " 306012060,\n",
       " 306073168,\n",
       " 305998255,\n",
       " 306048998,\n",
       " 306051345,\n",
       " 306010929,\n",
       " 306042573,\n",
       " 306011762,\n",
       " 306023030,\n",
       " 306032967,\n",
       " 306032965,\n",
       " 306078541,\n",
       " 306011347,\n",
       " 306062776,\n",
       " 306033419,\n",
       " 306014555,\n",
       " 306063029,\n",
       " 306019998,\n",
       " 306016627,\n",
       " 306058255,\n",
       " 306041442,\n",
       " 306062996,\n",
       " 306042308,\n",
       " 306067010,\n",
       " 306062733,\n",
       " 306011705,\n",
       " 306011859,\n",
       " 306033354,\n",
       " 306033124,\n",
       " 306069846,\n",
       " 305998980,\n",
       " 306386696,\n",
       " 306386701,\n",
       " 306017877,\n",
       " 306072689,\n",
       " 306003844,\n",
       " 306296000,\n",
       " 306058245,\n",
       " 306053344,\n",
       " 306024061,\n",
       " 306010953,\n",
       " 306047622,\n",
       " 306015614,\n",
       " 306062555,\n",
       " 306041484,\n",
       " 306014540,\n",
       " 306005976,\n",
       " 305998239,\n",
       " 306033088,\n",
       " 306012073,\n",
       " 306005792,\n",
       " 306020442,\n",
       " 306014450,\n",
       " 306011277,\n",
       " 306386680,\n",
       " 306003935,\n",
       " 306022598,\n",
       " 306002320,\n",
       " 306048183,\n",
       " 306064121,\n",
       " 306049017,\n",
       " 306042276,\n",
       " 306386703,\n",
       " 306043677,\n",
       " 306031703,\n",
       " 306058908,\n",
       " 306033457,\n",
       " 306033304,\n",
       " 306062216,\n",
       " 306042253,\n",
       " 306033217,\n",
       " 306014457,\n",
       " 306051436,\n",
       " 306041691,\n",
       " 306017521,\n",
       " 306386146,\n",
       " 306062322,\n",
       " 306005962,\n",
       " 306011200,\n",
       " 306017881,\n",
       " 306386457,\n",
       " 306011427,\n",
       " 306016687,\n",
       " 306017831,\n",
       " 305997470,\n",
       " 306386466,\n",
       " 306041491,\n",
       " 306011671,\n",
       " 306016523,\n",
       " 306011304,\n",
       " 306042302,\n",
       " 306020489,\n",
       " 306041715,\n",
       " 306082400,\n",
       " 306062851,\n",
       " 306290105,\n",
       " 306042434,\n",
       " 306036399,\n",
       " 306032893,\n",
       " 306011540,\n",
       " 306010766,\n",
       " 306048460,\n",
       " 305998235,\n",
       " 305997401,\n",
       " 305998448,\n",
       " 305999275,\n",
       " 306011491,\n",
       " 306016854,\n",
       " 306010778,\n",
       " 306024169,\n",
       " 306020178,\n",
       " 306079682,\n",
       " 306068837,\n",
       " 306005626,\n",
       " 306043332,\n",
       " 306071995,\n",
       " 306024199,\n",
       " 306016919,\n",
       " 306020202,\n",
       " 306012019,\n",
       " 305998207,\n",
       " 306013142,\n",
       " 306034258,\n",
       " 306010940,\n",
       " 306033391,\n",
       " 306051362,\n",
       " 306006584,\n",
       " 305996937,\n",
       " 306004063,\n",
       " 306386730,\n",
       " 306043463,\n",
       " 306058799,\n",
       " 306019785,\n",
       " 306386739,\n",
       " 306041535,\n",
       " 306041300,\n",
       " 306290407,\n",
       " 306070094,\n",
       " 306032877,\n",
       " 306048567,\n",
       " 305997808,\n",
       " 306386615,\n",
       " 306058238,\n",
       " 306062747,\n",
       " 306058830,\n",
       " 306043395,\n",
       " 305998091,\n",
       " 306386758,\n",
       " 306033174,\n",
       " 306068097,\n",
       " 306058397,\n",
       " 306033188,\n",
       " 306032429,\n",
       " 306386306,\n",
       " 306011575,\n",
       " 306010969,\n",
       " 306295992,\n",
       " 306386737,\n",
       " 306386745,\n",
       " 306386307,\n",
       " 306068840,\n",
       " 306015464,\n",
       " 306020262,\n",
       " 306015034,\n",
       " 306043479,\n",
       " 306078421,\n",
       " 306003948,\n",
       " 305997232,\n",
       " 306043371,\n",
       " 306015360,\n",
       " 306058663,\n",
       " 306020456,\n",
       " 306043773,\n",
       " 306015594,\n",
       " 306073987,\n",
       " 306043509,\n",
       " 306060652,\n",
       " 306062571,\n",
       " 305998433,\n",
       " 306047604,\n",
       " 306050789,\n",
       " 306386292,\n",
       " 306019906,\n",
       " 306017933,\n",
       " 306017022,\n",
       " 306005799,\n",
       " 306043615,\n",
       " 306045841,\n",
       " 306058419,\n",
       " 306041704,\n",
       " 306004105,\n",
       " 306015399,\n",
       " 306048145,\n",
       " 306017854,\n",
       " 306010908,\n",
       " 306043398,\n",
       " 306015526,\n",
       " 306031683,\n",
       " 306011648,\n",
       " 306020260,\n",
       " 306043765,\n",
       " 306043958,\n",
       " 306041621,\n",
       " 306041740,\n",
       " 306005999,\n",
       " 306068155,\n",
       " 306036387,\n",
       " 305998907,\n",
       " 305998860,\n",
       " 305993353,\n",
       " 306015653,\n",
       " 306015128,\n",
       " 306067022,\n",
       " 306020162,\n",
       " 306020428,\n",
       " 306011532,\n",
       " 306015747,\n",
       " 305998189,\n",
       " 306043804,\n",
       " 306020084,\n",
       " 306014593,\n",
       " 305998086,\n",
       " 306011243,\n",
       " 306019908,\n",
       " 306057190,\n",
       " 306069942,\n",
       " 306043602,\n",
       " 305997863,\n",
       " 306043851,\n",
       " 306020237,\n",
       " 306036602,\n",
       " 306015624,\n",
       " 306014483,\n",
       " 306011235,\n",
       " 306036552,\n",
       " 306058928,\n",
       " 306011264,\n",
       " 306386587,\n",
       " 306015643,\n",
       " 306020416,\n",
       " 306011838,\n",
       " 306290174,\n",
       " 306386304,\n",
       " 306062567,\n",
       " 306020401,\n",
       " 306022946,\n",
       " 306011297,\n",
       " 306386743,\n",
       " 306058295,\n",
       " 306072704,\n",
       " 306015098,\n",
       " 306386590,\n",
       " 306032915,\n",
       " 306058018,\n",
       " 306058577,\n",
       " 306058870,\n",
       " 306058820,\n",
       " 306020431,\n",
       " 306386738,\n",
       " 306057825,\n",
       " 306033462,\n",
       " 306386790,\n",
       " 306020414,\n",
       " 306024224,\n",
       " 306066694,\n",
       " 306014597,\n",
       " 306294994,\n",
       " 306036665,\n",
       " 306067945,\n",
       " 306058265,\n",
       " 306070397,\n",
       " 306069435,\n",
       " 306014501,\n",
       " 306027039,\n",
       " 306386777,\n",
       " 306070222,\n",
       " 306014530,\n",
       " 306033177,\n",
       " 305997563,\n",
       " 306017561,\n",
       " 306041903,\n",
       " 306014458,\n",
       " 305998915,\n",
       " 306042456,\n",
       " 306386783,\n",
       " 306031667,\n",
       " 306295998,\n",
       " 306011813,\n",
       " 306062261,\n",
       " 306036850,\n",
       " 306295353,\n",
       " 306033449,\n",
       " 306295358,\n",
       " 306016562,\n",
       " 306290173,\n",
       " 306053127,\n",
       " 306020389,\n",
       " 306017928]"
      ]
     },
     "execution_count": 118,
     "metadata": {},
     "output_type": "execute_result"
    }
   ],
   "source": [
    "FullPath"
   ]
  },
  {
   "cell_type": "code",
   "execution_count": 121,
   "id": "0dd03170",
   "metadata": {},
   "outputs": [],
   "source": [
    "speedDictFile=open(\"Outputs/FullPath.pkl\",\"wb\")\n",
    "pk.dump(FullPath,speedDictFile)\n",
    "speedDictFile.close()"
   ]
  },
  {
   "cell_type": "code",
   "execution_count": 29,
   "id": "cd1e09a8",
   "metadata": {},
   "outputs": [],
   "source": [
    "maxiD=0\n",
    "maxD=0\n",
    "arr=[]\n",
    "for i in FullPath:\n",
    "    singleFlightTrack=Tracks[Tracks['flighthistory_id']==i]\n",
    "    singleFlightTrack=singleFlightTrack.sort_values('received')\n",
    "    lat=singleFlightTrack['latitude_degrees'].values\n",
    "    lon=singleFlightTrack['longitude_degrees'].values\n",
    "    PathLenReal=0\n",
    "    realX,realY=m(lon,lat)\n",
    "    for pt in range(1,len(realX)):\n",
    "         PathLenReal+=dst.euclidean((realX[pt-1],realY[pt-1]),(realX[pt],realY[pt]))\n",
    "    arr.append((i,PathLenReal))"
   ]
  },
  {
   "cell_type": "code",
   "execution_count": 33,
   "id": "e07cb38e",
   "metadata": {},
   "outputs": [],
   "source": [
    "arr = sorted(arr,key=lambda x:x[1])"
   ]
  },
  {
   "cell_type": "code",
   "execution_count": 90,
   "id": "4212aae3",
   "metadata": {},
   "outputs": [
    {
     "data": {
      "text/plain": [
       "(306020193, 3753028.476356991)"
      ]
     },
     "execution_count": 90,
     "metadata": {},
     "output_type": "execute_result"
    }
   ],
   "source": [
    "arr[-10]"
   ]
  },
  {
   "cell_type": "code",
   "execution_count": 119,
   "id": "dff39b26",
   "metadata": {},
   "outputs": [
    {
     "name": "stdout",
     "output_type": "stream",
     "text": [
      "60\n",
      "94\n",
      "346\n"
     ]
    }
   ],
   "source": [
    "print(len(NoPath))\n",
    "print(len(HalfPath))\n",
    "print(len(FullPath))"
   ]
  },
  {
   "cell_type": "code",
   "execution_count": 102,
   "id": "f0ea8317",
   "metadata": {},
   "outputs": [],
   "source": [
    "singleFlightTrack=Tracks[Tracks['flighthistory_id']==306020193]\n",
    "g=list(singleFlightTrack['ground_speed'])"
   ]
  },
  {
   "cell_type": "code",
   "execution_count": 103,
   "id": "f0413e41",
   "metadata": {},
   "outputs": [
    {
     "name": "stdout",
     "output_type": "stream",
     "text": [
      "[157, 253, 271, 0, 273, 306, 344, 359, 371, 378, 371, 394, 376, 395, 395, 399, 411, 418, 425, 431, 442, 437, 437, 433, 423, 419, 410, 411, 412, 407, 397, 398, 404, 409, 410, 416, 419, 421, 425, 423, 424, 418, 417, 424, 423, 422, 426, 423, 424, 424, 422, 423, 421, 422, 419, 424, 422, 419, 421, 421, 420, 423, 422, 423, 425, 426, 429, 427, 427, 425, 428, 427, 429, 430, 431, 431, 431, 432, 432, 421, 425, 422, 422, 424, 424, 419, 422, 426, 423, 419, 418, 417, 419, 416, 418, 414, 417, 409, 405, 415, 414, 415, 417, 416, 423, 424, 427, 427, 434, 434, 435, 436, 438, 438, 438, 438, 438, 438, 439, 439, 440, 439, 441, 440, 442, 439, 440, 441, 439, 441, 438, 439, 441, 440, 445, 443, 444, 445, 444, 445, 445, 444, 445, 446, 445, 446, 446, 446, 442, 440, 434, 436, 433, 434, 438, 443, 442, 442, 442, 438, 439, 433, 437, 431, 434, 427, 431, 424, 427, 424, 426, 425, 424, 425, 424, 427, 426, 429, 429, 435, 432, 437, 435, 440, 436, 440, 439, 442, 440, 438, 439, 442, 439, 438, 439, 434, 438, 441, 438, 437, 439, 441, 441, 447, 440, 437, 439, 435, 438, 436, 440, 433, 439, 438, 440, 440, 443, 423, 445, 447, 447, 451, 451, 444, 442, 438, 438, 435, 435, 433, 430, 429, 431, 430, 433, 432, 432, 431, 432, 428, 428, 424, 424, 426, 424, 421, 423, 421, 427, 424, 426, 432, 425, 431, 428, 424, 429, 425, 427, 426, 422, 425, 423, 425, 425, 424, 424, 424, 422, 422, 419, 421, 429, 422, 421, 424, 421, 422, 419, 422, 422, 422, 420, 423, 420, 421, 419, 421, 423, 423, 421, 425, 421, 423, 424, 423, 425, 425, 426, 424, 424, 425, 429, 427, 432, 430, 428, 429, 425, 424, 427, 427, 426, 426, 425, 426, 425, 428, 426, 430, 425, 425, 428, 429, 430, 431, 428, 428, 427, 428, 426, 423, 424, 426, 424, 427, 426, 427, 427, 423, 424, 424, 425, 422, 422, 413, 415, 411, 411, 409, 404, 398, 391, 384, 380, 374, 372, 353, 354, 318, 330, 297, 297, 296, 294, 259, 283, 248, 253, 231, 232, 202, 207, 193, 192, 194, 192, 191, 190, 184, 185, 152, 170, 143, 151]\n"
     ]
    }
   ],
   "source": [
    "print(g)"
   ]
  },
  {
   "cell_type": "code",
   "execution_count": 104,
   "id": "ad2d43b4",
   "metadata": {},
   "outputs": [],
   "source": [
    "import numpy as np\n",
    "a=np.array(g)"
   ]
  },
  {
   "cell_type": "code",
   "execution_count": 105,
   "id": "d1dcba67",
   "metadata": {},
   "outputs": [],
   "source": [
    "q1=len(g)//4\n",
    "q3=3*(len(g))//4"
   ]
  },
  {
   "cell_type": "code",
   "execution_count": 106,
   "id": "d0109004",
   "metadata": {},
   "outputs": [
    {
     "name": "stdout",
     "output_type": "stream",
     "text": [
      "432.7098445595855\n"
     ]
    }
   ],
   "source": [
    "su=0\n",
    "c=0\n",
    "for i in range(q1,q3+1):\n",
    "    c+=1\n",
    "    su+=g[i]\n",
    "print(su/c)"
   ]
  },
  {
   "cell_type": "code",
   "execution_count": 109,
   "id": "06df6200",
   "metadata": {},
   "outputs": [
    {
     "data": {
      "text/plain": [
       "434.0"
      ]
     },
     "execution_count": 109,
     "metadata": {},
     "output_type": "execute_result"
    }
   ],
   "source": [
    "x=g[q1:q3+1]\n",
    "np.median(np.array(x))"
   ]
  },
  {
   "cell_type": "code",
   "execution_count": 107,
   "id": "7053571b",
   "metadata": {},
   "outputs": [
    {
     "data": {
      "text/plain": [
       "451"
      ]
     },
     "execution_count": 107,
     "metadata": {},
     "output_type": "execute_result"
    }
   ],
   "source": [
    "max(g)"
   ]
  },
  {
   "cell_type": "code",
   "execution_count": 108,
   "id": "bc90d445",
   "metadata": {},
   "outputs": [
    {
     "data": {
      "text/plain": [
       "409.09090909090907"
      ]
     },
     "execution_count": 108,
     "metadata": {},
     "output_type": "execute_result"
    }
   ],
   "source": [
    "sum(g)/len(g)"
   ]
  }
 ],
 "metadata": {
  "kernelspec": {
   "display_name": "Python 3",
   "language": "python",
   "name": "python3"
  },
  "language_info": {
   "codemirror_mode": {
    "name": "ipython",
    "version": 3
   },
   "file_extension": ".py",
   "mimetype": "text/x-python",
   "name": "python",
   "nbconvert_exporter": "python",
   "pygments_lexer": "ipython3",
   "version": "3.8.10"
  }
 },
 "nbformat": 4,
 "nbformat_minor": 5
}
