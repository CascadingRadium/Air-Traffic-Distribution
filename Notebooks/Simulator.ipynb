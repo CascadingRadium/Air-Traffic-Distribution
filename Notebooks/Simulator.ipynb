{
 "cells": [
  {
   "cell_type": "code",
   "execution_count": 1,
<<<<<<< HEAD
=======
   "id": "2a6d8ef5",
>>>>>>> 81cba049581966f78f04005e4b3b3e689792e4f0
   "metadata": {},
   "outputs": [],
   "source": [
    "from collections import deque,defaultdict\n",
    "import matplotlib.pyplot as plt\n",
    "import distinctipy as ds\n",
    "import pickle as pk\n",
    "import pandas as pd\n",
    "import json\n",
    "import mpld3\n",
<<<<<<< HEAD
    "import time\n",
    "%matplotlib qt"
=======
    "#%matplotlib qt"
>>>>>>> 81cba049581966f78f04005e4b3b3e689792e4f0
   ]
  },
  {
   "cell_type": "code",
   "execution_count": 2,
<<<<<<< HEAD
   "metadata": {},
   "outputs": [],
   "source": [
    "m = pk.load(open(\"Outputs/M_ConversionMetric.pkl\", \"rb\"))\n",
    "dfAirports=pd.read_csv(\"Inputs//Airports.csv\")\n",
    "ConvexDictRead = pk.load(open(\"Outputs/ConvexDict.pkl\", \"rb\"))\n",
    "df=pd.read_csv(\"Outputs/US_SectorMap.csv\")\n",
    "f = open('Inputs/airports.json')"
   ]
  },
  {
   "cell_type": "code",
   "execution_count": 5,
=======
   "id": "89527dd7",
>>>>>>> 81cba049581966f78f04005e4b3b3e689792e4f0
   "metadata": {},
   "outputs": [],
   "source": [
    "# m = pk.load(open(\"Outputs/M_ConversionMetric.pkl\", \"rb\"))\n",
    "# dfAirports=pd.read_csv(\"Inputs//Airports.csv\")\n",
    "# ConvexDictRead = open(\"Outputs/ConvexDict.pkl\", \"rb\")\n",
    "# df=pd.read_csv(\"Outputs/US_SectorMap.csv\")\n",
    "# f = open('Inputs/airports.json')\n",
    "# data = json.load(f)\n",
    "# dfAirportsFinal=pd.DataFrame()\n",
    "# airportList=list(dfAirports[\"airport\"])\n",
    "# latitudes=[]\n",
    "# longitudes=[]\n",
    "# for airport in airportList:\n",
    "#     lat=data[airport]['lat']\n",
    "#     lon=data[airport]['lon']\n",
    "#     latitudes.append(lat)\n",
    "#     longitudes.append(lon)\n",
    "# xAir,yAir=m(longitudes,latitudes)\n",
    "# output = pk.load(ConvexDictRead)\n",
    "# sectorNumber=0\n",
    "# dpi=10\n",
    "# fig=plt.figure(figsize=(1000,1000),dpi=dpi)\n",
    "# fig.tight_layout()\n",
    "# while sectorNumber<1250:\n",
    "#     x=output[sectorNumber]\n",
    "#     x1=list(map(lambda p:p[0],x))\n",
    "#     y1=list(map(lambda p:p[1],x))\n",
    "#     x2=list(df[df['sector']==sectorNumber]['easting'])\n",
    "#     y2=list(df[df['sector']==sectorNumber]['northing'])\n",
    "#     x3=sorted(x1)\n",
    "#     y3=sorted(y1)\n",
    "#     xmid=(x3[0]+x3[-1])/2\n",
    "#     ymid=(y3[0]+y3[-1])/2\n",
    "#     plt.text(xmid,ymid,f\"{sectorNumber}\",fontsize=55)\n",
    "#     plt.plot(x1,y1,'r')\n",
    "#     plt.plot([x1[0],x1[-1]],[y1[0],y1[-1]],'r')\n",
    "#     sectorNumber+=1\n",
    "# plt.scatter(xAir,yAir,marker='o' , s=1000)\n",
    "# for i, txt in enumerate(airportList):\n",
    "#     plt.annotate(txt, (xAir[i], yAir[i]),fontsize=80,color =\"red\")\n",
    "# fig.tight_layout()\n",
    "# fig.canvas.draw()\n",
<<<<<<< HEAD
    "# pk.dump(fig,open(\"Outputs/Simulator.pkl\",\"wb\"))"
   ]
  },
  {
   "cell_type": "code",
   "execution_count": 6,
   "metadata": {},
   "outputs": [],
   "source": [
=======
    "# pk.dump(fig,open(\"Outputs/Simulator.pkl\",\"wb\"))\n",
>>>>>>> 81cba049581966f78f04005e4b3b3e689792e4f0
    "# di = dict()\n",
    "# di = mpld3.fig_to_dict(fig)\n",
    "# with open('Outputs/Sim.json', 'w') as outfile:\n",
    "#     json.dump(di, outfile)"
   ]
  },
  {
   "cell_type": "code",
<<<<<<< HEAD
   "execution_count": 11,
=======
   "execution_count": null,
   "id": "82fdc25d",
>>>>>>> 81cba049581966f78f04005e4b3b3e689792e4f0
   "metadata": {},
   "outputs": [
    {
     "name": "stderr",
     "output_type": "stream",
     "text": [
      "<ipython-input-11-a9150290e621>:2: UserWarning: This figure was saved with matplotlib version 3.5.1 and is unlikely to function correctly.\n",
      "  fig = plt.figure(pk.load(open(\"Outputs/Simulator.pkl\",\"rb\")))\n"
     ]
    },
    {
     "name": "stdout",
     "output_type": "stream",
     "text": [
      "7.85391092300415\n"
     ]
    }
   ],
   "source": [
    "CentroidDict=pk.load(open(\"Outputs/CentroidDict.pkl\",\"rb\"))\n",
    "fig = plt.figure(pk.load(open(\"Outputs/Simulator.pkl\",\"rb\")))\n",
    "# Paths=pk.load(open(\"GA_Output_3.pkl\",\"rb\")) #OG METHOD ADD BOTH PARENT AND CHILD + SORT (PRELIM+ELIMINATION)\n",
    "# Paths=pk.load(open(\"GA_Output_1.5.pkl\",\"rb\")) #WHEN COMPARE ND REPLACE PARENT WITH CHILD OPT 1.5 (PRELIM,NO ELIM) -> CUDA\n",
    "Paths=pk.load(open(\"GA_Output.pkl\",\"rb\")) #WHEN COMPARE ND REPLACE PARENT WITH CHILD(dont remove duplicates) OPT 1.5b (NO PRELIM,NO ELIM)\n",
    "# Paths=pk.load(open(\"GA_Output_2.pkl\",\"rb\")) #WHEN DIRECT REPLACEMENT OF PARENT WITH CHILD OPT 2(NO PRELIM,NO ELIM)\n",
    "#Paths=pk.load(open(\"GA_Output_2_500.pkl\",\"rb\")) #WHEN DIRECT REPLACEMENT(4k Pop 500 gens) OF PARENT WITH CHILD OPT 2.5(NO PRELIM,NO ELIM)\n",
    "position=0\n",
    "prevX=[deque() for _ in range(len(Paths))]\n",
    "prevY=[deque() for _ in range(len(Paths))]\n",
    "colors=ds.get_colors(len(Paths))\n",
    "MaxSectorCountDict=defaultdict(int)\n",
<<<<<<< HEAD
    "def TraceFunction(position):\n",
    "    tempDict=defaultdict(int)\n",
    "    data = {'Sector':[],\n",
    "    'SectorCount':[],\n",
    "    'MaxSectorCount':[]}\n",
=======
    "def TraceFunction(event):\n",
    "    global position\n",
    "    global axTab\n",
>>>>>>> 81cba049581966f78f04005e4b3b3e689792e4f0
    "    if position == 0:\n",
    "        for pathIdx in range(len(Paths)):\n",
    "            point=CentroidDict[Paths[pathIdx][position]]\n",
    "            prevX[pathIdx].append(point[0])\n",
    "            prevY[pathIdx].append(point[1])\n",
    "            tempDict[Paths[pathIdx][position]]+=1\n",
    "        plt.plot(prevX,prevY,'o',markersize=50,color=colors[pathIdx])\n",
    "        fig.canvas.draw()\n",
    "        s=time.time()\n",
    "        plt.savefig('my_plot.png')\n",
    "        e=time.time()\n",
    "        print(e-s)\n",
    "        position+=1\n",
    "    else:\n",
    "        for pathIdx in range(len(Paths)):\n",
    "            if(position<len(Paths[pathIdx])):\n",
    "                tempDict[Paths[pathIdx][position]]+=1\n",
    "                point=CentroidDict[Paths[pathIdx][position]]\n",
    "                prevX[pathIdx].append(point[0])\n",
    "                prevY[pathIdx].append(point[1])\n",
    "                plt.plot(prevX[pathIdx],prevY[pathIdx],linewidth=25,color=colors[pathIdx])\n",
    "                prevX[pathIdx].popleft()\n",
    "                prevY[pathIdx].popleft()\n",
    "        fig.canvas.draw()\n",
    "        plt.savefig(f'my_plot{position}.png')\n",
    "        position+=1\n",
<<<<<<< HEAD
    "#     for key in tempDict :\n",
    "#         data['Sector'].append(key)\n",
    "#         data['SectorCount'].append(tempDict[key])\n",
    "#         MaxSectorCountDict[key]=max(MaxSectorCountDict[key],tempDict[key])\n",
    "#         data['MaxSectorCount'].append(MaxSectorCountDict[key])\n",
=======
>>>>>>> 81cba049581966f78f04005e4b3b3e689792e4f0
    "#     for i in MaxSectorCountDict:\n",
    "#         if(i not in data['Sector']):\n",
    "#             data['Sector'].append(i)\n",
    "#             data['SectorCount'].append(0)\n",
    "#             data['MaximumSectorCount'].append(MaxSectorCountDict[i])\n",
    "#     dfSec=pd.DataFrame(data)\n",
    "    #table=axTab.table(cellText=dfSec.values, colLabels=dfSec.columns,loc='center')\n",
    "#     table.auto_set_font_size(False)\n",
    "#     table.set_fontsize(8)\n",
    "#     table.auto_set_column_width(col=list(range(len(columns))))\n",
    "#     Tabfig.canvas.draw()\n",
    "# Tabfig, axTab = plt.subplots()\n",
    "Tabfig.patch.set_visible(False)\n",
    "axTab.axis('off')\n",
    "axTab.axis('tight')\n",
    "# cid = fig.canvas.mpl_connect('button_press_event', TraceFunction)\n",
    "# plt.show()\n",
    "TraceFunction(0)\n",
    "plt.show()"
   ]
  },
  {
   "cell_type": "code",
<<<<<<< HEAD
   "execution_count": 5,
=======
   "execution_count": null,
   "id": "6e5244fc",
>>>>>>> 81cba049581966f78f04005e4b3b3e689792e4f0
   "metadata": {},
   "outputs": [],
   "source": [
    "# import numpy as np\n",
    "# fig, ax = plt.subplots()\n",
    "# fig.patch.set_visible(False)\n",
    "# ax.axis('off')\n",
    "# ax.axis('tight')\n",
    "# columns=[\"Current\\nSector\\nCount\",\"Highest\\nSector\\nCount\\nSeen\\nso\\nfar\"]\n",
    "# rows = ['Sector %d' % x for x in range(25)]\n",
    "# sectorCounts = np.zeros((25,2))\n",
    "# table=ax.table(rowLabels=rows,colLabels=columns,cellText=sectorCounts,loc='center')\n",
    "# table.auto_set_font_size(False)\n",
    "# table.set_fontsize(8)\n",
    "# table.auto_set_column_width(col=list(range(len(columns))))"
   ]
  },
  {
   "cell_type": "code",
   "execution_count": 19,
   "id": "bbd3b93b",
   "metadata": {},
   "outputs": [
    {
     "data": {
      "image/png": "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\n",
      "text/plain": [
       "<Figure size 432x288 with 1 Axes>"
      ]
     },
     "metadata": {
      "needs_background": "light"
     },
     "output_type": "display_data"
    }
   ],
   "source": [
    "import numpy as np\n",
    "import distinctipy as ds\n",
    "from matplotlib import collections  as mc\n",
    "\n",
    "lines = [[(1, 1), (1, 1)], [(2, 3), (3, 3)], [(1, 2), (1, 3)]]\n",
    "c = ds.get_colors(3)\n",
    "\n",
    "lc = mc.LineCollection(lines, colors=c, linewidths=2)\n",
    "fig, ax = plt.subplots()\n",
    "ax.add_collection(lc)\n",
    "ax.margins(0.1)"
   ]
  },
  {
   "cell_type": "code",
   "execution_count": null,
   "id": "7b179409",
   "metadata": {},
   "outputs": [],
   "source": []
  }
 ],
 "metadata": {
  "kernelspec": {
   "display_name": "Python 3",
   "language": "python",
   "name": "python3"
  },
  "language_info": {
   "codemirror_mode": {
    "name": "ipython",
    "version": 3
   },
   "file_extension": ".py",
   "mimetype": "text/x-python",
   "name": "python",
   "nbconvert_exporter": "python",
   "pygments_lexer": "ipython3",
   "version": "3.8.10"
  }
 },
 "nbformat": 4,
 "nbformat_minor": 5
}
