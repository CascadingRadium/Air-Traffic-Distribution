{
 "cells": [
  {
   "cell_type": "code",
   "execution_count": 1,
   "id": "ecc60d15",
   "metadata": {},
   "outputs": [],
   "source": [
    "from collections import deque,defaultdict\n",
    "import matplotlib.pyplot as plt\n",
    "import distinctipy as ds\n",
    "import pickle as pk\n",
    "import pandas as pd\n",
    "import json\n",
    "import mpld3\n",
    "#%matplotlib qt"
   ]
  },
  {
   "cell_type": "code",
   "execution_count": 2,
   "id": "9f1f5857",
   "metadata": {},
   "outputs": [],
   "source": [
    "# m = pk.load(open(\"Outputs/M_ConversionMetric.pkl\", \"rb\"))\n",
    "# dfAirports=pd.read_csv(\"Inputs//Airports.csv\")\n",
    "# ConvexDictRead = open(\"Outputs/ConvexDict.pkl\", \"rb\")\n",
    "# df=pd.read_csv(\"Outputs/US_SectorMap.csv\")\n",
    "# f = open('Inputs/airports.json')\n",
    "# data = json.load(f)\n",
    "# dfAirportsFinal=pd.DataFrame()\n",
    "# airportList=list(dfAirports[\"airport\"])\n",
    "# latitudes=[]\n",
    "# longitudes=[]\n",
    "# for airport in airportList:\n",
    "#     lat=data[airport]['lat']\n",
    "#     lon=data[airport]['lon']\n",
    "#     latitudes.append(lat)\n",
    "#     longitudes.append(lon)\n",
    "# xAir,yAir=m(longitudes,latitudes)\n",
    "# output = pk.load(ConvexDictRead)\n",
    "# sectorNumber=0\n",
    "# dpi=10\n",
    "# fig=plt.figure(figsize=(1000,1000),dpi=dpi)\n",
    "# fig.tight_layout()\n",
    "# while sectorNumber<1250:\n",
    "#     x=output[sectorNumber]\n",
    "#     x1=list(map(lambda p:p[0],x))\n",
    "#     y1=list(map(lambda p:p[1],x))\n",
    "#     x2=list(df[df['sector']==sectorNumber]['easting'])\n",
    "#     y2=list(df[df['sector']==sectorNumber]['northing'])\n",
    "#     x3=sorted(x1)\n",
    "#     y3=sorted(y1)\n",
    "#     xmid=(x3[0]+x3[-1])/2\n",
    "#     ymid=(y3[0]+y3[-1])/2\n",
    "#     plt.text(xmid,ymid,f\"{sectorNumber}\",fontsize=55)\n",
    "#     plt.plot(x1,y1,'r')\n",
    "#     plt.plot([x1[0],x1[-1]],[y1[0],y1[-1]],'r')\n",
    "#     sectorNumber+=1\n",
    "# plt.scatter(xAir,yAir,marker='o' , s=1000)\n",
    "# for i, txt in enumerate(airportList):\n",
    "#     plt.annotate(txt, (xAir[i], yAir[i]),fontsize=80,color =\"red\")\n",
    "# fig.tight_layout()\n",
    "# fig.canvas.draw()\n",
    "# pk.dump(fig,open(\"Outputs/Simulator.pkl\",\"wb\"))\n",
    "# di = dict()\n",
    "# di = mpld3.fig_to_dict(fig)\n",
    "# with open('Outputs/Sim.json', 'w') as outfile:\n",
    "#     json.dump(di, outfile)"
   ]
  },
  {
   "cell_type": "code",
   "execution_count": null,
   "id": "59632755",
   "metadata": {},
   "outputs": [],
   "source": [
    "CentroidDict=pk.load(open(\"Outputs/CentroidDict.pkl\",\"rb\"))\n",
    "fig = plt.figure(pk.load(open(\"Outputs/Simulator.pkl\",\"rb\")))\n",
    "# Paths=pk.load(open(\"GA_Output_3.pkl\",\"rb\")) #OG METHOD ADD BOTH PARENT AND CHILD + SORT (PRELIM+ELIMINATION)\n",
    "# Paths=pk.load(open(\"GA_Output_1.5.pkl\",\"rb\")) #WHEN COMPARE ND REPLACE PARENT WITH CHILD OPT 1.5 (PRELIM,NO ELIM) -> CUDA\n",
    "Paths=pk.load(open(\"GA_Output_1.5_500.pkl\",\"rb\")) #WHEN COMPARE ND REPLACE PARENT WITH CHILD(dont remove duplicates) OPT 1.5b (NO PRELIM,NO ELIM)\n",
    "# Paths=pk.load(open(\"GA_Output_2.pkl\",\"rb\")) #WHEN DIRECT REPLACEMENT OF PARENT WITH CHILD OPT 2(NO PRELIM,NO ELIM)\n",
    "#Paths=pk.load(open(\"GA_Output_2_500.pkl\",\"rb\")) #WHEN DIRECT REPLACEMENT(4k Pop 500 gens) OF PARENT WITH CHILD OPT 2.5(NO PRELIM,NO ELIM)\n",
    "position=0\n",
    "prevX=[deque() for _ in range(len(Paths))]\n",
    "prevY=[deque() for _ in range(len(Paths))]\n",
    "colors=ds.get_colors(len(Paths))\n",
    "MaxSectorCountDict=defaultdict(int)\n",
    "def TraceFunction(event):\n",
    "    global position\n",
    "    global axTab\n",
    "    if position == 0:\n",
    "        for pathIdx in range(len(Paths)):\n",
    "            point=CentroidDict[Paths[pathIdx][position]]\n",
    "            prevX[pathIdx].append(point[0])\n",
    "            prevY[pathIdx].append(point[1])\n",
    "            tempDict[Paths[pathIdx][position]]+=1\n",
    "        plt.plot(prevX,prevY,'o',markersize=50,color=colors[pathIdx])\n",
    "        fig.canvas.draw()\n",
    "        position+=1\n",
    "    else:\n",
    "        for pathIdx in range(len(Paths)):\n",
    "            if(position<len(Paths[pathIdx])):\n",
    "                tempDict[Paths[pathIdx][position]]+=1\n",
    "                point=CentroidDict[Paths[pathIdx][position]]\n",
    "                prevX[pathIdx].append(point[0])\n",
    "                prevY[pathIdx].append(point[1])\n",
    "                plt.plot(prevX[pathIdx],prevY[pathIdx],linewidth=25,color=colors[pathIdx])\n",
    "                prevX[pathIdx].popleft()\n",
    "                prevY[pathIdx].popleft()\n",
    "        fig.canvas.draw()\n",
    "        position+=1\n",
    "#     for i in MaxSectorCountDict:\n",
    "#         if(i not in data['Sector']):\n",
    "#             data['Sector'].append(i)\n",
    "#             data['SectorCount'].append(0)\n",
    "#             data['MaximumSectorCount'].append(MaxSectorCountDict[i])\n",
    "#     dfSec=pd.DataFrame(data)\n",
    "    #table=axTab.table(cellText=dfSec.values, colLabels=dfSec.columns,loc='center')\n",
    "#     table.auto_set_font_size(False)\n",
    "#     table.set_fontsize(8)\n",
    "#     table.auto_set_column_width(col=list(range(len(columns))))\n",
    "#     Tabfig.canvas.draw()\n",
    "# Tabfig, axTab = plt.subplots()\n",
    "# Tabfig.patch.set_visible(False)\n",
    "# axTab.axis('off')\n",
    "# axTab.axis('tight')\n",
    "cid = fig.canvas.mpl_connect('button_press_event', TraceFunction)\n",
    "plt.show()"
   ]
  },
  {
   "cell_type": "code",
   "execution_count": null,
   "id": "a0af11b2",
   "metadata": {},
   "outputs": [],
   "source": [
    "# import numpy as np\n",
    "# fig, ax = plt.subplots()\n",
    "# fig.patch.set_visible(False)\n",
    "# ax.axis('off')\n",
    "# ax.axis('tight')\n",
    "# columns=[\"Current\\nSector\\nCount\",\"Highest\\nSector\\nCount\\nSeen\\nso\\nfar\"]\n",
    "# rows = ['Sector %d' % x for x in range(25)]\n",
    "# sectorCounts = np.zeros((25,2))\n",
    "# table=ax.table(rowLabels=rows,colLabels=columns,cellText=sectorCounts,loc='center')\n",
    "# table.auto_set_font_size(False)\n",
    "# table.set_fontsize(8)\n",
    "# table.auto_set_column_width(col=list(range(len(columns))))"
   ]
  },
  {
   "cell_type": "code",
   "execution_count": 16,
   "id": "dd09bf8b",
   "metadata": {},
   "outputs": [
    {
     "data": {
      "image/png": "[encoded data removed]",
      "text/plain": [
       "<Figure size 432x288 with 1 Axes>"
      ]
     },
     "metadata": {
      "needs_background": "light"
     },
     "output_type": "display_data"
    }
   ],
   "source": [
    "import numpy as np\n",
    "import distinctipy as ds\n",
    "from matplotlib import collections  as mc\n",
    "\n",
    "lines = [[(0, 1), (1, 1)], [(2, 3), (3, 3)], [(1, 2), (1, 3)]]\n",
    "c = np.array([(1, 0, 0, 1), (0, 1, 0, 1), (0, 0, 1, 1)])\n",
    "\n",
    "lc = mc.LineCollection(lines, colors=c, linewidths=2)\n",
    "fig, ax = plt.subplots()\n",
    "ax.add_collection(lc)\n",
    "ax.margins(0.1)"
   ]
  },
  {
   "cell_type": "code",
   "execution_count": null,
   "id": "c7b14a27",
   "metadata": {},
   "outputs": [],
   "source": []
  }
 ],
 "metadata": {
  "kernelspec": {
   "display_name": "Python 3",
   "language": "python",
   "name": "python3"
  },
  "language_info": {
   "codemirror_mode": {
    "name": "ipython",
    "version": 3
   },
   "file_extension": ".py",
   "mimetype": "text/x-python",
   "name": "python",
   "nbconvert_exporter": "python",
   "pygments_lexer": "ipython3",
   "version": "3.8.10"
  }
 },
 "nbformat": 4,
 "nbformat_minor": 5
}
