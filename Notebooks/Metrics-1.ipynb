{
 "cells": [
  {
   "cell_type": "code",
   "execution_count": 232,
   "metadata": {},
   "outputs": [],
   "source": [
    "import pandas as pd\n",
    "import math\n",
    "from collections import defaultdict,Counter\n",
    "import matplotlib.pyplot as plt"
   ]
  },
  {
   "cell_type": "code",
   "execution_count": 233,
   "metadata": {},
   "outputs": [],
   "source": [
    "df=pd.read_csv(\"./MetricFiles/idif.csv\")"
   ]
  },
  {
   "cell_type": "code",
   "execution_count": 234,
   "metadata": {},
   "outputs": [],
   "source": [
    "def realTraffic(df,minutes):\n",
    "    traffic=defaultdict(list)\n",
    "    trafficMax=dict()\n",
    "    sourceAirports=list(df[\"departure_airport_icao_code\"])\n",
    "    destinationAirports=list(df[\"arrival_airport_icao_code\"])\n",
    "    rangeSize=max(list(df[\"idif_actual_runway_arrival\"]))\n",
    "    numberOfRanges=math.ceil(rangeSize/minutes)\n",
    "    departureTimes=list(df[\"idif_actual_runway_departure\"])\n",
    "    arrivalTimes=list(df[\"idif_actual_runway_arrival\"])\n",
    "    for i in range(len(departureTimes)):\n",
    "        depart=int(departureTimes[i]/minutes)\n",
    "        if len(traffic[sourceAirports[i]]) == 0:\n",
    "            traffic[sourceAirports[i]]=[0 for _ in range(numberOfRanges + 1)]\n",
    "        traffic[sourceAirports[i]][depart]+=1\n",
    "        arrive=int(arrivalTimes[i]/minutes)\n",
    "        if len(traffic[destinationAirports[i]]) == 0:\n",
    "            traffic[destinationAirports[i]]=[0 for _ in range(numberOfRanges + 1)]\n",
    "        traffic[destinationAirports[i]][arrive]+=1\n",
    "    for airport,trafficRanges in traffic.items():\n",
    "        trafficMax[airport]=max(trafficRanges)\n",
    "    return trafficMax"
   ]
  },
  {
   "cell_type": "code",
   "execution_count": 235,
   "metadata": {},
   "outputs": [],
   "source": [
    "dfScheduled=pd.read_csv(\"./MetricFiles/idif_scheduled.csv\")\n",
    "with open(\"./MetricFiles/AerialTimeGD.txt\") as f:\n",
    "    data=f.readlines()[1:]\n",
    "    data=list(map(lambda x:x[:-1],data))\n",
    "    data=list(map(lambda x:[int(x.split(\",\")[0]),int(x.split(\",\")[1])],data))"
   ]
  },
  {
   "cell_type": "code",
   "execution_count": 236,
   "metadata": {},
   "outputs": [],
   "source": [
    "def GATraffic(df,minutes):\n",
    "    traffic=defaultdict(list)\n",
    "    trafficMax=dict()\n",
    "    scheduledDepartures=list(df[\"idif_scheduled_runway_departure\"])\n",
    "    sourceAirports=list(df[\"departure_airport_icao_code\"])\n",
    "    destinationAirports=list(df[\"arrival_airport_icao_code\"])\n",
    "    actualDeparture=[]\n",
    "    actualArrival=[]\n",
    "    for i in range(len(scheduledDepartures)):\n",
    "        actualDeparture.append(scheduledDepartures[i] + data[i][1])\n",
    "        actualArrival.append(actualDeparture[-1] + data[i][0])\n",
    "    rangeSize=max(actualArrival)\n",
    "    numberOfRanges=math.ceil(rangeSize/minutes)\n",
    "    for i in range(len(scheduledDepartures)):\n",
    "        depart=int(actualDeparture[i]/minutes)\n",
    "        if len(traffic[sourceAirports[i]]) == 0:\n",
    "            traffic[sourceAirports[i]]=[0 for _ in range(numberOfRanges + 1)]\n",
    "        traffic[sourceAirports[i]][depart]+=1\n",
    "        arrive=int(actualArrival[i]/minutes)\n",
    "        if len(traffic[destinationAirports[i]]) == 0:\n",
    "            traffic[destinationAirports[i]]=[0 for _ in range(numberOfRanges + 1)]\n",
    "        traffic[destinationAirports[i]][arrive]+=1\n",
    "    for airport,trafficRanges in traffic.items():\n",
    "        trafficMax[airport]=max(trafficRanges)\n",
    "    return trafficMax"
   ]
  },
  {
   "cell_type": "code",
   "execution_count": 237,
   "metadata": {},
   "outputs": [
    {
     "name": "stdout",
     "output_type": "stream",
     "text": [
      "Traffic in GA is better than or equal to real data in 82.4665676077266 % of the airports\n"
     ]
    }
   ],
   "source": [
    "minutes=5\n",
    "x=realTraffic(df,minutes)\n",
    "y=GATraffic(dfScheduled,minutes)\n",
    "c=0\n",
    "for airport in x:\n",
    "    if y[airport] <= x[airport]:\n",
    "        c+=1\n",
    "print(f\"Traffic in GA is better than or equal to real data in {c*100/len(x)} % of the airports\")"
   ]
  },
  {
   "cell_type": "code",
   "execution_count": null,
   "metadata": {},
   "outputs": [],
   "source": []
  }
 ],
 "metadata": {
  "kernelspec": {
   "display_name": "Python 3",
   "language": "python",
   "name": "python3"
  },
  "language_info": {
   "codemirror_mode": {
    "name": "ipython",
    "version": 3
   },
   "file_extension": ".py",
   "mimetype": "text/x-python",
   "name": "python",
   "nbconvert_exporter": "python",
   "pygments_lexer": "ipython3",
   "version": "3.8.10"
  }
 },
 "nbformat": 4,
 "nbformat_minor": 4
}
