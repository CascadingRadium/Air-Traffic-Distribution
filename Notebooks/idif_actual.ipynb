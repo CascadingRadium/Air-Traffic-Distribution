{
 "cells": [
  {
   "cell_type": "code",
   "execution_count": 87,
   "id": "9419086e",
   "metadata": {},
   "outputs": [],
   "source": [
    "import datetime as dt\n",
    "import pandas as pd \n",
    "df = pd.read_csv(\"MetricFiles/2013-08-16_flights.csv\")\n",
    "final_df = df.sort_values(by=['actual_runway_departure'], ascending=True,ignore_index=True)\n",
    "min_date=dt.datetime.fromisoformat(final_df['actual_runway_departure'][0])\n",
    "min_timestamp = int(round(min_date.timestamp()))\n",
    "\n",
    "def add_idif(final_df,name,min_timestamp):\n",
    "    dtObjectSeries = []\n",
    "    actualDep=final_df[name]\n",
    "    for dep in actualDep:\n",
    "        dtObjectSeries.append(dt.datetime.fromisoformat(dep))\n",
    "    idifSeries = []\n",
    "    for dep in dtObjectSeries:\n",
    "        idif = int((int(round(dep.timestamp())) - min_timestamp)/60)\n",
    "        idifSeries.append(idif)\n",
    "    final_df[f'idif_{name}'] = idifSeries\n",
    "add_idif(final_df,'actual_runway_departure',min_timestamp)\n",
    "add_idif(final_df,'actual_runway_arrival',min_timestamp)\n",
    "final_df.to_csv(f\"{TEST_DAY}_idif.csv\",index=False)"
   ]
  }
 ],
 "metadata": {
  "kernelspec": {
   "display_name": "Python 3",
   "language": "python",
   "name": "python3"
  },
  "language_info": {
   "codemirror_mode": {
    "name": "ipython",
    "version": 3
   },
   "file_extension": ".py",
   "mimetype": "text/x-python",
   "name": "python",
   "nbconvert_exporter": "python",
   "pygments_lexer": "ipython3",
   "version": "3.8.10"
  }
 },
 "nbformat": 4,
 "nbformat_minor": 5
}
