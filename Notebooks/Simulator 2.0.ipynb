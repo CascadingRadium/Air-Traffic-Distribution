{
 "cells": [
  {
   "cell_type": "code",
<<<<<<< HEAD
   "execution_count": 1,
   "id": "1256a1ed",
=======
   "execution_count": 2,
   "id": "7a95fad0",
>>>>>>> 4e2d4887fa90ac3d831854920281b810cecf673b
   "metadata": {},
   "outputs": [],
   "source": [
    "from collections import deque,defaultdict\n",
    "import matplotlib.pyplot as plt\n",
    "#import distinctipy as ds\n",
    "import pickle as pk\n",
    "import pandas as pd\n",
    "import json\n",
    "%matplotlib qt"
   ]
  },
  {
   "cell_type": "code",
<<<<<<< HEAD
   "execution_count": 4,
   "id": "752ce93b",
=======
   "execution_count": 15,
   "id": "9d37b73e",
>>>>>>> 4e2d4887fa90ac3d831854920281b810cecf673b
   "metadata": {},
   "outputs": [],
   "source": [
    "m = pk.load(open(\"Outputs/M_ConversionMetric.pkl\", \"rb\"))\n",
    "dfAirports=pd.read_csv(\"Inputs//Airports.csv\")\n",
    "ConvexDictRead = open(\"Outputs/ConvexDict.pkl\", \"rb\")\n",
    "df=pd.read_csv(\"Outputs/US_SectorMap.csv\")\n",
    "f = open('Inputs/airports.json', encoding = 'utf-8')"
   ]
  },
  {
   "cell_type": "code",
<<<<<<< HEAD
   "execution_count": 5,
   "id": "31340145",
=======
   "execution_count": 16,
   "id": "0a5c4fb9",
>>>>>>> 4e2d4887fa90ac3d831854920281b810cecf673b
   "metadata": {},
   "outputs": [],
   "source": [
    "data = json.load(f)\n",
    "dfAirportsFinal=pd.DataFrame()\n",
    "airportList=list(dfAirports[\"airport\"])\n",
    "latitudes=[]\n",
    "longitudes=[]\n",
    "for airport in airportList:\n",
    "    lat=data[airport]['lat']\n",
    "    lon=data[airport]['lon']\n",
    "    latitudes.append(lat)\n",
    "    longitudes.append(lon)\n",
    "xAir,yAir=m(longitudes,latitudes)\n",
    "output = pk.load(ConvexDictRead)\n",
    "sectorNumber=0\n",
    "dpi=10\n",
    "fig=plt.figure(figsize=(1000,1000),dpi=dpi)\n",
    "fig.tight_layout()\n",
    "while sectorNumber<1250:\n",
    "    x=output[sectorNumber]\n",
    "    x1=list(map(lambda p:p[0],x))\n",
    "    y1=list(map(lambda p:p[1],x))\n",
    "    x2=list(df[df['sector']==sectorNumber]['easting'])\n",
    "    y2=list(df[df['sector']==sectorNumber]['northing'])\n",
    "    x3=sorted(x1)\n",
    "    y3=sorted(y1)\n",
    "    xmid=(x3[0]+x3[-1])/2\n",
    "    ymid=(y3[0]+y3[-1])/2\n",
    "    plt.text(xmid,ymid,f\"{sectorNumber}\",fontsize=55)\n",
    "    plt.plot(x1,y1,'r')\n",
    "    plt.plot([x1[0],x1[-1]],[y1[0],y1[-1]],'r')\n",
    "    sectorNumber+=1\n",
    "plt.scatter(xAir,yAir,marker='o' , s=1000)\n",
    "for i, txt in enumerate(airportList):\n",
    "    plt.annotate(txt, (xAir[i], yAir[i]),fontsize=80,color =\"red\")\n",
    "fig.tight_layout()\n",
    "fig.canvas.draw()\n",
    "pk.dump(fig,open(\"Outputs/Simulator.pkl\",\"wb\"))"
   ]
  },
  {
   "cell_type": "code",
   "execution_count": 19,
   "id": "75429225",
   "metadata": {},
   "outputs": [
    {
     "name": "stdout",
     "output_type": "stream",
     "text": [
      "Collecting mpld3\n",
      "  Downloading mpld3-0.5.8-py3-none-any.whl (201 kB)\n",
      "Requirement already satisfied: jinja2 in c:\\users\\shashnavad\\anaconda3\\lib\\site-packages (from mpld3) (2.11.3)\n",
      "Requirement already satisfied: matplotlib in c:\\users\\shashnavad\\anaconda3\\lib\\site-packages (from mpld3) (3.3.4)\n",
      "Requirement already satisfied: MarkupSafe>=0.23 in c:\\users\\shashnavad\\anaconda3\\lib\\site-packages (from jinja2->mpld3) (1.1.1)\n",
      "Requirement already satisfied: kiwisolver>=1.0.1 in c:\\users\\shashnavad\\anaconda3\\lib\\site-packages (from matplotlib->mpld3) (1.3.1)\n",
      "Requirement already satisfied: pyparsing!=2.0.4,!=2.1.2,!=2.1.6,>=2.0.3 in c:\\users\\shashnavad\\anaconda3\\lib\\site-packages (from matplotlib->mpld3) (2.4.7)\n",
      "Requirement already satisfied: cycler>=0.10 in c:\\users\\shashnavad\\anaconda3\\lib\\site-packages (from matplotlib->mpld3) (0.10.0)\n",
      "Requirement already satisfied: pillow>=6.2.0 in c:\\users\\shashnavad\\anaconda3\\lib\\site-packages (from matplotlib->mpld3) (8.2.0)\n",
      "Requirement already satisfied: numpy>=1.15 in c:\\users\\shashnavad\\anaconda3\\lib\\site-packages (from matplotlib->mpld3) (1.23.2)\n",
      "Requirement already satisfied: python-dateutil>=2.1 in c:\\users\\shashnavad\\anaconda3\\lib\\site-packages (from matplotlib->mpld3) (2.8.1)\n",
      "Requirement already satisfied: six in c:\\users\\shashnavad\\anaconda3\\lib\\site-packages (from cycler>=0.10->matplotlib->mpld3) (1.15.0)\n",
      "Installing collected packages: mpld3\n",
      "Successfully installed mpld3-0.5.8\n",
      "Note: you may need to restart the kernel to use updated packages.\n"
     ]
    },
    {
     "name": "stderr",
     "output_type": "stream",
     "text": [
      "WARNING: You are using pip version 21.2.4; however, version 22.2.2 is available.\n",
      "You should consider upgrading via the 'C:\\Users\\ShashNavad\\Anaconda3\\python.exe -m pip install --upgrade pip' command.\n"
     ]
    }
   ],
   "source": [
    "pip install mpld3"
   ]
  },
  {
   "cell_type": "code",
   "execution_count": 25,
   "id": "1940cae4",
   "metadata": {},
   "outputs": [
    {
     "ename": "SyntaxError",
     "evalue": "invalid syntax (<ipython-input-25-d3bfc748244a>, line 1)",
     "output_type": "error",
     "traceback": [
      "\u001b[1;36m  File \u001b[1;32m\"<ipython-input-25-d3bfc748244a>\"\u001b[1;36m, line \u001b[1;32m1\u001b[0m\n\u001b[1;33m    jupyter notebook --NotebookApp.iopub_data_rate_limit=1.0e10\u001b[0m\n\u001b[1;37m            ^\u001b[0m\n\u001b[1;31mSyntaxError\u001b[0m\u001b[1;31m:\u001b[0m invalid syntax\n"
     ]
    }
   ],
   "source": [
    "#jupyter notebook --NotebookApp.iopub_data_rate_limit=1.0e10"
   ]
  },
  {
   "cell_type": "code",
   "execution_count": 26,
   "id": "bfe4346e",
   "metadata": {},
   "outputs": [
    {
     "name": "stderr",
     "output_type": "stream",
     "text": [
      "IOPub data rate exceeded.\n",
      "The notebook server will temporarily stop sending output\n",
      "to the client in order to avoid crashing it.\n",
      "To change this limit, set the config variable\n",
      "`--NotebookApp.iopub_data_rate_limit`.\n",
      "\n",
      "Current values:\n",
      "NotebookApp.iopub_data_rate_limit=1000000.0 (bytes/sec)\n",
      "NotebookApp.rate_limit_window=3.0 (secs)\n",
      "\n"
     ]
    }
   ],
   "source": [
    "import mpld3\n",
    "di = dict()\n",
    "di = mpld3.fig_to_dict(fig)\n",
    "json_object = json.dumps(di, indent = 4) \n",
    "print(json_object)"
   ]
  },
  {
   "cell_type": "code",
   "execution_count": 6,
   "id": "55c9f650",
   "metadata": {},
   "outputs": [],
   "source": [
    "CentroidDict=pk.load(open(\"Outputs/CentroidDict.pkl\",\"rb\"))\n",
    "fig = plt.figure(pk.load(open(\"Outputs/Simulator.pkl\",\"rb\")))\n",
    "Paths=pk.load(open(\"GA_Output.pkl\",\"rb\"))\n",
    "\n",
    "\n",
    "position=0\n",
    "prevX=[deque() for _ in range(len(Paths))]\n",
    "prevY=[deque() for _ in range(len(Paths))]\n",
    "colors=ds.get_colors(len(Paths))\n",
    "MaxSectorCountDict=defaultdict(int)\n",
    "def TraceFunction(event):\n",
    "    global position\n",
    "    global MaxSectorCountDict\n",
    "    global axTab\n",
    "    tempDict=defaultdict(int)\n",
    "    data = {'Sector':[],\n",
    "    'SectorCount':[],\n",
    "    'MaxSectorCount':[]}\n",
    "    if position == 0:\n",
    "        for pathIdx in range(len(Paths)):\n",
    "            point=CentroidDict[Paths[pathIdx][position]]\n",
    "            prevX[pathIdx].append(point[0])\n",
    "            prevY[pathIdx].append(point[1])\n",
    "            tempDict[Paths[pathIdx][position]]+=1\n",
    "        plt.plot(prevX,prevY,'o',markersize=50,color=colors[pathIdx])\n",
    "        fig.canvas.draw()\n",
    "        position+=1\n",
    "    else:\n",
    "        for pathIdx in range(len(Paths)):\n",
    "            if(position<len(Paths[pathIdx])):\n",
    "                tempDict[Paths[pathIdx][position]]+=1\n",
    "                point=CentroidDict[Paths[pathIdx][position]]\n",
    "                prevX[pathIdx].append(point[0])\n",
    "                prevY[pathIdx].append(point[1])\n",
    "                plt.plot(prevX[pathIdx],prevY[pathIdx],linewidth=25,color=colors[pathIdx])\n",
    "                prevX[pathIdx].popleft()\n",
    "                prevY[pathIdx].popleft()\n",
    "        fig.canvas.draw()\n",
    "        position+=1\n",
    "    for key in tempDict :\n",
    "        data['Sector'].append(key)\n",
    "        data['SectorCount'].append(tempDict[key])\n",
    "        MaxSectorCountDict[key]=max(MaxSectorCountDict[key],tempDict[key])\n",
    "        data['MaxSectorCount'].append(MaxSectorCountDict[key])\n",
    "#     for i in MaxSectorCountDict:\n",
    "#         if(i not in data['Sector']):\n",
    "#             data['Sector'].append(i)\n",
    "#             data['SectorCount'].append(0)\n",
    "#             data['MaximumSectorCount'].append(MaxSectorCountDict[i])\n",
    "#     dfSec=pd.DataFrame(data)\n",
    "    #table=axTab.table(cellText=dfSec.values, colLabels=dfSec.columns,loc='center')\n",
    "#     table.auto_set_font_size(False)\n",
    "#     table.set_fontsize(8)\n",
    "#     table.auto_set_column_width(col=list(range(len(columns))))\n",
    "#     Tabfig.canvas.draw()\n",
    "# Tabfig, axTab = plt.subplots()\n",
    "# Tabfig.patch.set_visible(False)\n",
    "# axTab.axis('off')\n",
    "# axTab.axis('tight')\n",
    "cid = fig.canvas.mpl_connect('button_press_event', TraceFunction)\n",
    "plt.show()"
   ]
  },
  {
   "cell_type": "code",
   "execution_count": 5,
   "id": "1da17228",
   "metadata": {},
   "outputs": [],
   "source": [
    "import numpy as np\n",
    "fig, ax = plt.subplots()\n",
    "fig.patch.set_visible(False)\n",
    "ax.axis('off')\n",
    "ax.axis('tight')\n",
    "columns=[\"Current\\nSector\\nCount\",\"Highest\\nSector\\nCount\\nSeen\\nso\\nfar\"]\n",
    "rows = ['Sector %d' % x for x in range(25)]\n",
    "sectorCounts = np.zeros((25,2))\n",
    "table=ax.table(rowLabels=rows,colLabels=columns,cellText=sectorCounts,loc='center')\n",
    "table.auto_set_font_size(False)\n",
    "table.set_fontsize(8)\n",
    "table.auto_set_column_width(col=list(range(len(columns))))"
   ]
  },
  {
   "cell_type": "code",
   "execution_count": null,
   "id": "9f760c9f",
   "metadata": {},
   "outputs": [],
   "source": []
  }
 ],
 "metadata": {
  "kernelspec": {
   "display_name": "Python 3",
   "language": "python",
   "name": "python3"
  },
  "language_info": {
   "codemirror_mode": {
    "name": "ipython",
    "version": 3
   },
   "file_extension": ".py",
   "mimetype": "text/x-python",
   "name": "python",
   "nbconvert_exporter": "python",
   "pygments_lexer": "ipython3",
   "version": "3.8.8"
  }
 },
 "nbformat": 4,
 "nbformat_minor": 5
}
